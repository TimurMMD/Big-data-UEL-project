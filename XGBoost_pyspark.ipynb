{
  "nbformat": 4,
  "nbformat_minor": 0,
  "metadata": {
    "colab": {
      "provenance": [],
      "authorship_tag": "ABX9TyMpFrPrA5GzhAYv26Mldckx",
      "include_colab_link": true
    },
    "kernelspec": {
      "name": "python3",
      "display_name": "Python 3"
    },
    "language_info": {
      "name": "python"
    }
  },
  "cells": [
    {
      "cell_type": "markdown",
      "metadata": {
        "id": "view-in-github",
        "colab_type": "text"
      },
      "source": [
        "<a href=\"https://colab.research.google.com/github/TimurMMD/Big-data-UEL-project/blob/main/XGBoost_pyspark.ipynb\" target=\"_parent\"><img src=\"https://colab.research.google.com/assets/colab-badge.svg\" alt=\"Open In Colab\"/></a>"
      ]
    },
    {
      "cell_type": "code",
      "execution_count": null,
      "metadata": {
        "id": "lIeQah6s4qaT",
        "colab": {
          "base_uri": "https://localhost:8080/"
        },
        "outputId": "5bb1bcee-b827-4b3c-a04e-6174603241f7"
      },
      "outputs": [
        {
          "output_type": "stream",
          "name": "stdout",
          "text": [
            "Collecting pyspark\n",
            "  Downloading pyspark-3.5.1.tar.gz (317.0 MB)\n",
            "\u001b[2K     \u001b[90m━━━━━━━━━━━━━━━━━━━━━━━━━━━━━━━━━━━━━━━━\u001b[0m \u001b[32m317.0/317.0 MB\u001b[0m \u001b[31m3.5 MB/s\u001b[0m eta \u001b[36m0:00:00\u001b[0m\n",
            "\u001b[?25h  Preparing metadata (setup.py) ... \u001b[?25l\u001b[?25hdone\n",
            "Requirement already satisfied: py4j in /usr/local/lib/python3.10/dist-packages (0.10.9.7)\n",
            "Building wheels for collected packages: pyspark\n",
            "  Building wheel for pyspark (setup.py) ... \u001b[?25l\u001b[?25hdone\n",
            "  Created wheel for pyspark: filename=pyspark-3.5.1-py2.py3-none-any.whl size=317488491 sha256=b9b2dd183b12b9b65c8a073339058c8d2dc2dd46e77e52d17569dbf94f9b14f5\n",
            "  Stored in directory: /root/.cache/pip/wheels/80/1d/60/2c256ed38dddce2fdd93be545214a63e02fbd8d74fb0b7f3a6\n",
            "Successfully built pyspark\n",
            "Installing collected packages: pyspark\n",
            "Successfully installed pyspark-3.5.1\n",
            "SparkSession created successfully.\n"
          ]
        }
      ],
      "source": [
        "!apt-get install openjdk-8-jdk-headless -qq > /dev/null\n",
        "!wget -q https://archive.apache.org/dist/spark/spark-3.5.0/spark-3.5.0-bin-hadoop3.tgz\n",
        "!tar xf spark-3.5.0-bin-hadoop3.tgz\n",
        "import os\n",
        "os.environ[\"JAVA_HOME\"] = \"/usr/lib/jvm/java-8-openjdk-amd64\"\n",
        "os.environ[\"SPARK_HOME\"] = \"/content/spark-3.5.0-bin-hadoop3\"\n",
        "!pip install -q findspark\n",
        "!pip install pyspark py4j\n",
        "import findspark\n",
        "findspark.init()\n",
        "from pyspark.sql import SparkSession\n",
        "spark = SparkSession.builder.appName(\"MyApp\").getOrCreate()\n",
        "spark_bin_path = os.path.join(os.environ[\"SPARK_HOME\"], \"bin\")\n",
        "\n",
        "# Check if the spark-submit file exists\n",
        "spark_submit_path = os.path.join(spark_bin_path, \"spark-submit\")\n",
        "if not os.path.exists(spark_submit_path):\n",
        "    print(\"Error: spark-submit not found at\", spark_submit_path)\n",
        "    print(\"Please verify your Spark installation.\")\n",
        "    exit(1)\n",
        "# Add spark_bin_path to the PATH environment variable\n",
        "os.environ[\"PATH\"] += os.pathsep + spark_bin_path\n",
        "\n",
        "# Now try to import and use SparkSession\n",
        "try:\n",
        "    from pyspark.sql import SparkSession\n",
        "\n",
        "    spark = SparkSession.builder.master(\"local[*]\").getOrCreate()\n",
        "    print(\"SparkSession created successfully.\")\n",
        "except Exception as e:\n",
        "    print(\"Error creating SparkSession:\", e)"
      ]
    },
    {
      "cell_type": "code",
      "source": [
        "from pyspark.sql import SparkSession\n",
        "from pyspark.ml.feature import VectorAssembler\n",
        "from xgboost.spark import SparkXGBClassifier\n",
        "from pyspark.ml.tuning import ParamGridBuilder, CrossValidator\n",
        "from pyspark.ml.evaluation import BinaryClassificationEvaluator, MulticlassClassificationEvaluator\n",
        "from pyspark.ml.feature import VectorAssembler, StringIndexer\n",
        "from pyspark.ml import Pipeline\n",
        "import matplotlib.pyplot as plt\n",
        "from  pyspark.mllib.evaluation import MulticlassMetrics\n",
        "from pyspark.mllib.evaluation import BinaryClassificationMetrics"
      ],
      "metadata": {
        "id": "1TBBI3_K4094"
      },
      "execution_count": null,
      "outputs": []
    },
    {
      "cell_type": "code",
      "source": [
        "data = spark.read.csv('/content/dataset.csv', inferSchema=True, header=True)"
      ],
      "metadata": {
        "id": "u-nhjn-c5QsW"
      },
      "execution_count": null,
      "outputs": []
    },
    {
      "cell_type": "code",
      "source": [
        "data.show()"
      ],
      "metadata": {
        "colab": {
          "base_uri": "https://localhost:8080/"
        },
        "id": "FeWUkZPK-FUL",
        "outputId": "a37178c1-eba6-47cd-c544-5be38d5fcb0b"
      },
      "execution_count": null,
      "outputs": [
        {
          "output_type": "stream",
          "name": "stdout",
          "text": [
            "+--------------------+---+-----------------+--------------+---------------------+----------+--------+-------------+--------------+-------------------------+-----------------+\n",
            "|          occupation|age|  education_level|marital_status|communication_channel|call_month|call_day|call_duration|call_frequency|previous_campaign_outcome|conversion_status|\n",
            "+--------------------+---+-----------------+--------------+---------------------+----------+--------+-------------+--------------+-------------------------+-----------------+\n",
            "|administrative_staff| 28|      high_school|       married|         unidentified| September|       9|            1|             1|               successful|    not_converted|\n",
            "|administrative_staff| 58|     unidentified|       married|         unidentified|      June|       5|          307|             2|             unidentified|    not_converted|\n",
            "|             jobless| 40|      high_school|      divorced|               mobile|  February|       4|          113|             1|             unidentified|    not_converted|\n",
            "|      retired_worker| 63|      high_school|       married|               mobile|     April|       7|           72|             5|             unidentified|    not_converted|\n",
            "|      business_owner| 43|          college|       married|             landline|      July|      29|          184|             4|             unidentified|    not_converted|\n",
            "|       manual_worker| 39|elementary_school|       married|         unidentified|      June|       6|          158|             2|             unidentified|    not_converted|\n",
            "|      business_owner| 42|          college|      divorced|               mobile|      July|      10|          563|             1|             unidentified|    not_converted|\n",
            "|      retired_worker| 68|          college|       married|               mobile|    August|       4|          651|             1|               successful|        converted|\n",
            "|             student| 22|          college|        single|               mobile|  November|      30|          260|             5|               successful|        converted|\n",
            "|technical_specialist| 53|      high_school|       married|             landline|      July|      29|           99|             5|             unidentified|    not_converted|\n",
            "|      retired_worker| 55|      high_school|       married|         unidentified|       May|      13|          647|             7|             unidentified|    not_converted|\n",
            "|           executive| 59|          college|      divorced|               mobile|      July|      16|           97|             2|             unidentified|    not_converted|\n",
            "|           executive| 48|          college|        single|               mobile|    August|      25|          961|             4|             unidentified|        converted|\n",
            "|             jobless| 43|      high_school|       married|               mobile|      July|      29|          153|             3|             unidentified|    not_converted|\n",
            "|technical_specialist| 46|          college|        single|         unidentified|      June|       5|           47|             1|             unidentified|    not_converted|\n",
            "|      service_worker| 36|      high_school|        single|               mobile|       May|      12|          170|             3|             unidentified|    not_converted|\n",
            "|administrative_staff| 46|      high_school|       married|               mobile|     April|      20|          239|             2|             unsuccessful|    not_converted|\n",
            "|      retired_worker| 71|elementary_school|       married|               mobile| September|      16|          246|             3|             unidentified|    not_converted|\n",
            "|      retired_worker| 58|      high_school|        single|               mobile|  February|       4|           72|             6|             unsuccessful|    not_converted|\n",
            "|technical_specialist| 52|      high_school|       married|         unidentified|       May|       8|          143|             1|             unidentified|    not_converted|\n",
            "+--------------------+---+-----------------+--------------+---------------------+----------+--------+-------------+--------------+-------------------------+-----------------+\n",
            "only showing top 20 rows\n",
            "\n"
          ]
        }
      ]
    },
    {
      "cell_type": "code",
      "source": [
        "#Change the values in the target column\n",
        "from pyspark.sql.functions import when,col\n",
        "data2 = data.withColumn(\"conversion_status\", when(data.conversion_status == \"not_converted\", 0)\n",
        "                                 .when(data.conversion_status == \"converted\", 1))"
      ],
      "metadata": {
        "id": "MY1XfYVXDyj_"
      },
      "execution_count": null,
      "outputs": []
    },
    {
      "cell_type": "code",
      "source": [
        "data2.show()"
      ],
      "metadata": {
        "colab": {
          "base_uri": "https://localhost:8080/"
        },
        "id": "44YYrmXFEMLK",
        "outputId": "1b77513f-6855-432f-ad98-24fb6a680230"
      },
      "execution_count": null,
      "outputs": [
        {
          "output_type": "stream",
          "name": "stdout",
          "text": [
            "+--------------------+---+-----------------+--------------+---------------------+----------+--------+-------------+--------------+-------------------------+-----------------+\n",
            "|          occupation|age|  education_level|marital_status|communication_channel|call_month|call_day|call_duration|call_frequency|previous_campaign_outcome|conversion_status|\n",
            "+--------------------+---+-----------------+--------------+---------------------+----------+--------+-------------+--------------+-------------------------+-----------------+\n",
            "|administrative_staff| 28|      high_school|       married|         unidentified| September|       9|            1|             1|               successful|                0|\n",
            "|administrative_staff| 58|     unidentified|       married|         unidentified|      June|       5|          307|             2|             unidentified|                0|\n",
            "|             jobless| 40|      high_school|      divorced|               mobile|  February|       4|          113|             1|             unidentified|                0|\n",
            "|      retired_worker| 63|      high_school|       married|               mobile|     April|       7|           72|             5|             unidentified|                0|\n",
            "|      business_owner| 43|          college|       married|             landline|      July|      29|          184|             4|             unidentified|                0|\n",
            "|       manual_worker| 39|elementary_school|       married|         unidentified|      June|       6|          158|             2|             unidentified|                0|\n",
            "|      business_owner| 42|          college|      divorced|               mobile|      July|      10|          563|             1|             unidentified|                0|\n",
            "|      retired_worker| 68|          college|       married|               mobile|    August|       4|          651|             1|               successful|                1|\n",
            "|             student| 22|          college|        single|               mobile|  November|      30|          260|             5|               successful|                1|\n",
            "|technical_specialist| 53|      high_school|       married|             landline|      July|      29|           99|             5|             unidentified|                0|\n",
            "|      retired_worker| 55|      high_school|       married|         unidentified|       May|      13|          647|             7|             unidentified|                0|\n",
            "|           executive| 59|          college|      divorced|               mobile|      July|      16|           97|             2|             unidentified|                0|\n",
            "|           executive| 48|          college|        single|               mobile|    August|      25|          961|             4|             unidentified|                1|\n",
            "|             jobless| 43|      high_school|       married|               mobile|      July|      29|          153|             3|             unidentified|                0|\n",
            "|technical_specialist| 46|          college|        single|         unidentified|      June|       5|           47|             1|             unidentified|                0|\n",
            "|      service_worker| 36|      high_school|        single|               mobile|       May|      12|          170|             3|             unidentified|                0|\n",
            "|administrative_staff| 46|      high_school|       married|               mobile|     April|      20|          239|             2|             unsuccessful|                0|\n",
            "|      retired_worker| 71|elementary_school|       married|               mobile| September|      16|          246|             3|             unidentified|                0|\n",
            "|      retired_worker| 58|      high_school|        single|               mobile|  February|       4|           72|             6|             unsuccessful|                0|\n",
            "|technical_specialist| 52|      high_school|       married|         unidentified|       May|       8|          143|             1|             unidentified|                0|\n",
            "+--------------------+---+-----------------+--------------+---------------------+----------+--------+-------------+--------------+-------------------------+-----------------+\n",
            "only showing top 20 rows\n",
            "\n"
          ]
        }
      ]
    },
    {
      "cell_type": "code",
      "source": [
        "#Define columns in the dataset\n",
        "numerical_cols = ['age', 'call_day', 'call_duration', 'call_frequency']\n",
        "categorical_cols = ['occupation', 'education_level', 'marital_status', 'communication_channel', 'call_month', 'previous_campaign_outcome']\n",
        "target_col = 'conversion_status'\n"
      ],
      "metadata": {
        "id": "2137Er5m86yC"
      },
      "execution_count": null,
      "outputs": []
    },
    {
      "cell_type": "code",
      "source": [
        "# Prepare data for machine learning model\n",
        "indexers = [StringIndexer(inputCol=col, outputCol=col+\"_indexed\").fit(data2) for col in categorical_cols]\n",
        "pipeline = Pipeline(stages=indexers)\n",
        "data_indexed = pipeline.fit(data).transform(data2)\n",
        "assembler = VectorAssembler(inputCols=numerical_cols + [col+\"_indexed\" for col in categorical_cols], outputCol=\"features\")\n",
        "data_transformed = assembler.transform(data_indexed)\n",
        "\n",
        "# Initialize XGBoost classifier\n",
        "xgb_classifier = SparkXGBClassifier(\n",
        "    features_col=\"features\",\n",
        "    label_col=target_col,\n",
        "    prediction_col=\"prediction\",\n",
        "    eval_metric=\"auc\"\n",
        ")\n",
        "\n",
        "# Split the data into training and testing sets\n",
        "train_data, test_data = data_transformed.randomSplit([0.8, 0.2], seed=42)\n",
        "\n",
        "# Train XGBmodel\n",
        "model = xgb_classifier.fit(train_data)\n",
        "\n",
        "# Make a prediction\n",
        "predictions = model.transform(test_data)"
      ],
      "metadata": {
        "id": "LD5zkoTz9QqV",
        "colab": {
          "base_uri": "https://localhost:8080/"
        },
        "outputId": "0375fe09-6d8f-4185-9f2e-751922bab44e"
      },
      "execution_count": null,
      "outputs": [
        {
          "output_type": "stream",
          "name": "stderr",
          "text": [
            "INFO:XGBoost-PySpark:Running xgboost-2.0.3 on 1 workers with\n",
            "\tbooster params: {'objective': 'binary:logistic', 'device': 'cpu', 'eval_metric': 'auc', 'nthread': 1}\n",
            "\ttrain_call_kwargs_params: {'verbose_eval': True, 'num_boost_round': 100}\n",
            "\tdmatrix_kwargs: {'nthread': 1, 'missing': nan}\n",
            "INFO:XGBoost-PySpark:Finished xgboost training!\n"
          ]
        }
      ]
    },
    {
      "cell_type": "code",
      "source": [
        "evaluator = BinaryClassificationEvaluator(labelCol=target_col)\n",
        "auroc = evaluator.evaluate(predictions)\n",
        "\n",
        "# Display AUROC\n",
        "print(\"AUROC:\", auroc)\n",
        "\n"
      ],
      "metadata": {
        "colab": {
          "base_uri": "https://localhost:8080/"
        },
        "id": "hX1mArtgEbr4",
        "outputId": "7fb72f2c-1cd6-4e45-bf52-8a8d0a2edf2e"
      },
      "execution_count": null,
      "outputs": [
        {
          "output_type": "stream",
          "name": "stdout",
          "text": [
            "AUROC: 0.9292162849831324\n"
          ]
        }
      ]
    },
    {
      "cell_type": "code",
      "source": [
        "# Calculate and display the confusion matrix\n",
        "prediction_and_labels = predictions.select(\"prediction\", target_col).rdd.map(lambda row: (float(row[\"prediction\"]), float(row[target_col])))\n",
        "metrics = MulticlassMetrics(prediction_and_labels)\n",
        "confusion_matrix = metrics.confusionMatrix().toArray()\n",
        "print(\"Confusion Matrix:\")\n",
        "print(confusion_matrix)\n",
        "\n",
        "\n",
        "\n",
        "\n"
      ],
      "metadata": {
        "colab": {
          "base_uri": "https://localhost:8080/"
        },
        "id": "C282dWUzEiWf",
        "outputId": "a8fa5dc6-0ff8-4474-b75d-f8a1592a8b1f"
      },
      "execution_count": null,
      "outputs": [
        {
          "output_type": "stream",
          "name": "stderr",
          "text": [
            "/content/spark-3.5.0-bin-hadoop3/python/pyspark/sql/context.py:158: FutureWarning: Deprecated in 3.0.0. Use SparkSession.builder.getOrCreate() instead.\n",
            "  warnings.warn(\n"
          ]
        },
        {
          "output_type": "stream",
          "name": "stdout",
          "text": [
            "Confusion Matrix:\n",
            "[[7653.  314.]\n",
            " [ 560.  521.]]\n"
          ]
        }
      ]
    },
    {
      "cell_type": "code",
      "source": [
        "# Calculate accuracy\n",
        "accuracy_evaluator = MulticlassClassificationEvaluator(labelCol=target_col, metricName=\"accuracy\")\n",
        "accuracy = accuracy_evaluator.evaluate(predictions)\n",
        "print(\"Accuracy:\", accuracy)\n",
        "\n",
        "# Calculate precision\n",
        "precision_evaluator = MulticlassClassificationEvaluator(labelCol=target_col, metricName=\"weightedPrecision\")\n",
        "precision = precision_evaluator.evaluate(predictions)\n",
        "print(\"Precision:\", precision)\n",
        "\n",
        "# Calculate Recall\n",
        "recall_evaluator = MulticlassClassificationEvaluator(labelCol=target_col, metricName=\"weightedRecall\")\n",
        "recall = recall_evaluator.evaluate(predictions)\n",
        "print(\"Recall:\", recall)\n",
        "\n",
        "\n",
        "# Calculate F1 score\n",
        "f1_evaluator = MulticlassClassificationEvaluator(labelCol=target_col, metricName=\"f1\")\n",
        "f1_score = f1_evaluator.evaluate(predictions)\n",
        "print(\"F1 Score:\", f1_score)"
      ],
      "metadata": {
        "colab": {
          "base_uri": "https://localhost:8080/"
        },
        "id": "A953XrvvHvpH",
        "outputId": "605cdd96-e95e-4ba0-f96d-41229ad0e449"
      },
      "execution_count": null,
      "outputs": [
        {
          "output_type": "stream",
          "name": "stdout",
          "text": [
            "Accuracy: 0.9034040671971706\n",
            "Precision: 0.8950337780261439\n",
            "Recall: 0.9034040671971707\n",
            "F1 Score: 0.8979372914341456\n"
          ]
        }
      ]
    },
    {
      "cell_type": "code",
      "source": [
        "#Define a grid of hyperparameters to tune\n",
        "param_grid = ParamGridBuilder() \\\n",
        "    .addGrid(xgb_classifier.max_depth, [3, 6, 9]) \\\n",
        "    .addGrid(xgb_classifier.min_child_weight, [1, 5, 10]) \\\n",
        "    .addGrid(xgb_classifier.gamma, [0.1, 0.2, 0.3]) \\\n",
        "    .build()\n"
      ],
      "metadata": {
        "id": "6DTbUrC5waVq"
      },
      "execution_count": null,
      "outputs": []
    },
    {
      "cell_type": "code",
      "source": [
        "#Configure a cross-validator\n",
        "evaluator = BinaryClassificationEvaluator(labelCol=target_col)\n",
        "cross_validator = CrossValidator(\n",
        "    estimator=xgb_classifier,\n",
        "    estimatorParamMaps=param_grid,\n",
        "    evaluator=evaluator,\n",
        "    numFolds=3\n",
        ")"
      ],
      "metadata": {
        "id": "by7Ml5EzxWs8"
      },
      "execution_count": null,
      "outputs": []
    },
    {
      "cell_type": "code",
      "source": [
        "#Perform Cross-Validation and Hyperparameter Tuning\n",
        "cv_model = cross_validator.fit(train_data)"
      ],
      "metadata": {
        "id": "Jm8pB0yIxfNE",
        "colab": {
          "base_uri": "https://localhost:8080/"
        },
        "outputId": "4e1ad38e-8fe0-4501-f717-04365c9a5e03"
      },
      "execution_count": null,
      "outputs": [
        {
          "output_type": "stream",
          "name": "stderr",
          "text": [
            "INFO:XGBoost-PySpark:Running xgboost-2.0.3 on 1 workers with\n",
            "\tbooster params: {'device': 'cpu', 'gamma': 0.1, 'max_depth': 3, 'min_child_weight': 1, 'objective': 'binary:logistic', 'eval_metric': 'auc', 'nthread': 1}\n",
            "\ttrain_call_kwargs_params: {'verbose_eval': True, 'num_boost_round': 100}\n",
            "\tdmatrix_kwargs: {'nthread': 1, 'missing': nan}\n",
            "INFO:XGBoost-PySpark:Finished xgboost training!\n",
            "INFO:XGBoost-PySpark:Running xgboost-2.0.3 on 1 workers with\n",
            "\tbooster params: {'device': 'cpu', 'gamma': 0.2, 'max_depth': 3, 'min_child_weight': 1, 'objective': 'binary:logistic', 'eval_metric': 'auc', 'nthread': 1}\n",
            "\ttrain_call_kwargs_params: {'verbose_eval': True, 'num_boost_round': 100}\n",
            "\tdmatrix_kwargs: {'nthread': 1, 'missing': nan}\n",
            "INFO:XGBoost-PySpark:Finished xgboost training!\n",
            "INFO:XGBoost-PySpark:Running xgboost-2.0.3 on 1 workers with\n",
            "\tbooster params: {'device': 'cpu', 'gamma': 0.3, 'max_depth': 3, 'min_child_weight': 1, 'objective': 'binary:logistic', 'eval_metric': 'auc', 'nthread': 1}\n",
            "\ttrain_call_kwargs_params: {'verbose_eval': True, 'num_boost_round': 100}\n",
            "\tdmatrix_kwargs: {'nthread': 1, 'missing': nan}\n",
            "INFO:XGBoost-PySpark:Finished xgboost training!\n",
            "INFO:XGBoost-PySpark:Running xgboost-2.0.3 on 1 workers with\n",
            "\tbooster params: {'device': 'cpu', 'gamma': 0.1, 'max_depth': 3, 'min_child_weight': 5, 'objective': 'binary:logistic', 'eval_metric': 'auc', 'nthread': 1}\n",
            "\ttrain_call_kwargs_params: {'verbose_eval': True, 'num_boost_round': 100}\n",
            "\tdmatrix_kwargs: {'nthread': 1, 'missing': nan}\n",
            "INFO:XGBoost-PySpark:Finished xgboost training!\n",
            "INFO:XGBoost-PySpark:Running xgboost-2.0.3 on 1 workers with\n",
            "\tbooster params: {'device': 'cpu', 'gamma': 0.2, 'max_depth': 3, 'min_child_weight': 5, 'objective': 'binary:logistic', 'eval_metric': 'auc', 'nthread': 1}\n",
            "\ttrain_call_kwargs_params: {'verbose_eval': True, 'num_boost_round': 100}\n",
            "\tdmatrix_kwargs: {'nthread': 1, 'missing': nan}\n",
            "INFO:XGBoost-PySpark:Finished xgboost training!\n",
            "INFO:XGBoost-PySpark:Running xgboost-2.0.3 on 1 workers with\n",
            "\tbooster params: {'device': 'cpu', 'gamma': 0.3, 'max_depth': 3, 'min_child_weight': 5, 'objective': 'binary:logistic', 'eval_metric': 'auc', 'nthread': 1}\n",
            "\ttrain_call_kwargs_params: {'verbose_eval': True, 'num_boost_round': 100}\n",
            "\tdmatrix_kwargs: {'nthread': 1, 'missing': nan}\n",
            "INFO:XGBoost-PySpark:Finished xgboost training!\n",
            "INFO:XGBoost-PySpark:Running xgboost-2.0.3 on 1 workers with\n",
            "\tbooster params: {'device': 'cpu', 'gamma': 0.1, 'max_depth': 3, 'min_child_weight': 10, 'objective': 'binary:logistic', 'eval_metric': 'auc', 'nthread': 1}\n",
            "\ttrain_call_kwargs_params: {'verbose_eval': True, 'num_boost_round': 100}\n",
            "\tdmatrix_kwargs: {'nthread': 1, 'missing': nan}\n",
            "INFO:XGBoost-PySpark:Finished xgboost training!\n",
            "INFO:XGBoost-PySpark:Running xgboost-2.0.3 on 1 workers with\n",
            "\tbooster params: {'device': 'cpu', 'gamma': 0.2, 'max_depth': 3, 'min_child_weight': 10, 'objective': 'binary:logistic', 'eval_metric': 'auc', 'nthread': 1}\n",
            "\ttrain_call_kwargs_params: {'verbose_eval': True, 'num_boost_round': 100}\n",
            "\tdmatrix_kwargs: {'nthread': 1, 'missing': nan}\n",
            "INFO:XGBoost-PySpark:Finished xgboost training!\n",
            "INFO:XGBoost-PySpark:Running xgboost-2.0.3 on 1 workers with\n",
            "\tbooster params: {'device': 'cpu', 'gamma': 0.3, 'max_depth': 3, 'min_child_weight': 10, 'objective': 'binary:logistic', 'eval_metric': 'auc', 'nthread': 1}\n",
            "\ttrain_call_kwargs_params: {'verbose_eval': True, 'num_boost_round': 100}\n",
            "\tdmatrix_kwargs: {'nthread': 1, 'missing': nan}\n",
            "INFO:XGBoost-PySpark:Finished xgboost training!\n",
            "INFO:XGBoost-PySpark:Running xgboost-2.0.3 on 1 workers with\n",
            "\tbooster params: {'device': 'cpu', 'gamma': 0.1, 'max_depth': 6, 'min_child_weight': 1, 'objective': 'binary:logistic', 'eval_metric': 'auc', 'nthread': 1}\n",
            "\ttrain_call_kwargs_params: {'verbose_eval': True, 'num_boost_round': 100}\n",
            "\tdmatrix_kwargs: {'nthread': 1, 'missing': nan}\n",
            "INFO:XGBoost-PySpark:Finished xgboost training!\n",
            "INFO:XGBoost-PySpark:Running xgboost-2.0.3 on 1 workers with\n",
            "\tbooster params: {'device': 'cpu', 'gamma': 0.2, 'max_depth': 6, 'min_child_weight': 1, 'objective': 'binary:logistic', 'eval_metric': 'auc', 'nthread': 1}\n",
            "\ttrain_call_kwargs_params: {'verbose_eval': True, 'num_boost_round': 100}\n",
            "\tdmatrix_kwargs: {'nthread': 1, 'missing': nan}\n",
            "INFO:XGBoost-PySpark:Finished xgboost training!\n",
            "INFO:XGBoost-PySpark:Running xgboost-2.0.3 on 1 workers with\n",
            "\tbooster params: {'device': 'cpu', 'gamma': 0.3, 'max_depth': 6, 'min_child_weight': 1, 'objective': 'binary:logistic', 'eval_metric': 'auc', 'nthread': 1}\n",
            "\ttrain_call_kwargs_params: {'verbose_eval': True, 'num_boost_round': 100}\n",
            "\tdmatrix_kwargs: {'nthread': 1, 'missing': nan}\n",
            "INFO:XGBoost-PySpark:Finished xgboost training!\n",
            "INFO:XGBoost-PySpark:Running xgboost-2.0.3 on 1 workers with\n",
            "\tbooster params: {'device': 'cpu', 'gamma': 0.1, 'max_depth': 6, 'min_child_weight': 5, 'objective': 'binary:logistic', 'eval_metric': 'auc', 'nthread': 1}\n",
            "\ttrain_call_kwargs_params: {'verbose_eval': True, 'num_boost_round': 100}\n",
            "\tdmatrix_kwargs: {'nthread': 1, 'missing': nan}\n",
            "INFO:XGBoost-PySpark:Finished xgboost training!\n",
            "INFO:XGBoost-PySpark:Running xgboost-2.0.3 on 1 workers with\n",
            "\tbooster params: {'device': 'cpu', 'gamma': 0.2, 'max_depth': 6, 'min_child_weight': 5, 'objective': 'binary:logistic', 'eval_metric': 'auc', 'nthread': 1}\n",
            "\ttrain_call_kwargs_params: {'verbose_eval': True, 'num_boost_round': 100}\n",
            "\tdmatrix_kwargs: {'nthread': 1, 'missing': nan}\n",
            "INFO:XGBoost-PySpark:Finished xgboost training!\n",
            "INFO:XGBoost-PySpark:Running xgboost-2.0.3 on 1 workers with\n",
            "\tbooster params: {'device': 'cpu', 'gamma': 0.3, 'max_depth': 6, 'min_child_weight': 5, 'objective': 'binary:logistic', 'eval_metric': 'auc', 'nthread': 1}\n",
            "\ttrain_call_kwargs_params: {'verbose_eval': True, 'num_boost_round': 100}\n",
            "\tdmatrix_kwargs: {'nthread': 1, 'missing': nan}\n",
            "INFO:XGBoost-PySpark:Finished xgboost training!\n",
            "INFO:XGBoost-PySpark:Running xgboost-2.0.3 on 1 workers with\n",
            "\tbooster params: {'device': 'cpu', 'gamma': 0.1, 'max_depth': 6, 'min_child_weight': 10, 'objective': 'binary:logistic', 'eval_metric': 'auc', 'nthread': 1}\n",
            "\ttrain_call_kwargs_params: {'verbose_eval': True, 'num_boost_round': 100}\n",
            "\tdmatrix_kwargs: {'nthread': 1, 'missing': nan}\n",
            "INFO:XGBoost-PySpark:Finished xgboost training!\n",
            "INFO:XGBoost-PySpark:Running xgboost-2.0.3 on 1 workers with\n",
            "\tbooster params: {'device': 'cpu', 'gamma': 0.2, 'max_depth': 6, 'min_child_weight': 10, 'objective': 'binary:logistic', 'eval_metric': 'auc', 'nthread': 1}\n",
            "\ttrain_call_kwargs_params: {'verbose_eval': True, 'num_boost_round': 100}\n",
            "\tdmatrix_kwargs: {'nthread': 1, 'missing': nan}\n",
            "INFO:XGBoost-PySpark:Finished xgboost training!\n",
            "INFO:XGBoost-PySpark:Running xgboost-2.0.3 on 1 workers with\n",
            "\tbooster params: {'device': 'cpu', 'gamma': 0.3, 'max_depth': 6, 'min_child_weight': 10, 'objective': 'binary:logistic', 'eval_metric': 'auc', 'nthread': 1}\n",
            "\ttrain_call_kwargs_params: {'verbose_eval': True, 'num_boost_round': 100}\n",
            "\tdmatrix_kwargs: {'nthread': 1, 'missing': nan}\n",
            "INFO:XGBoost-PySpark:Finished xgboost training!\n",
            "INFO:XGBoost-PySpark:Running xgboost-2.0.3 on 1 workers with\n",
            "\tbooster params: {'device': 'cpu', 'gamma': 0.1, 'max_depth': 9, 'min_child_weight': 1, 'objective': 'binary:logistic', 'eval_metric': 'auc', 'nthread': 1}\n",
            "\ttrain_call_kwargs_params: {'verbose_eval': True, 'num_boost_round': 100}\n",
            "\tdmatrix_kwargs: {'nthread': 1, 'missing': nan}\n",
            "INFO:XGBoost-PySpark:Finished xgboost training!\n",
            "INFO:XGBoost-PySpark:Running xgboost-2.0.3 on 1 workers with\n",
            "\tbooster params: {'device': 'cpu', 'gamma': 0.2, 'max_depth': 9, 'min_child_weight': 1, 'objective': 'binary:logistic', 'eval_metric': 'auc', 'nthread': 1}\n",
            "\ttrain_call_kwargs_params: {'verbose_eval': True, 'num_boost_round': 100}\n",
            "\tdmatrix_kwargs: {'nthread': 1, 'missing': nan}\n",
            "INFO:XGBoost-PySpark:Finished xgboost training!\n",
            "INFO:XGBoost-PySpark:Running xgboost-2.0.3 on 1 workers with\n",
            "\tbooster params: {'device': 'cpu', 'gamma': 0.3, 'max_depth': 9, 'min_child_weight': 1, 'objective': 'binary:logistic', 'eval_metric': 'auc', 'nthread': 1}\n",
            "\ttrain_call_kwargs_params: {'verbose_eval': True, 'num_boost_round': 100}\n",
            "\tdmatrix_kwargs: {'nthread': 1, 'missing': nan}\n",
            "INFO:XGBoost-PySpark:Finished xgboost training!\n",
            "INFO:XGBoost-PySpark:Running xgboost-2.0.3 on 1 workers with\n",
            "\tbooster params: {'device': 'cpu', 'gamma': 0.1, 'max_depth': 9, 'min_child_weight': 5, 'objective': 'binary:logistic', 'eval_metric': 'auc', 'nthread': 1}\n",
            "\ttrain_call_kwargs_params: {'verbose_eval': True, 'num_boost_round': 100}\n",
            "\tdmatrix_kwargs: {'nthread': 1, 'missing': nan}\n",
            "INFO:XGBoost-PySpark:Finished xgboost training!\n",
            "INFO:XGBoost-PySpark:Running xgboost-2.0.3 on 1 workers with\n",
            "\tbooster params: {'device': 'cpu', 'gamma': 0.2, 'max_depth': 9, 'min_child_weight': 5, 'objective': 'binary:logistic', 'eval_metric': 'auc', 'nthread': 1}\n",
            "\ttrain_call_kwargs_params: {'verbose_eval': True, 'num_boost_round': 100}\n",
            "\tdmatrix_kwargs: {'nthread': 1, 'missing': nan}\n",
            "INFO:XGBoost-PySpark:Finished xgboost training!\n",
            "INFO:XGBoost-PySpark:Running xgboost-2.0.3 on 1 workers with\n",
            "\tbooster params: {'device': 'cpu', 'gamma': 0.3, 'max_depth': 9, 'min_child_weight': 5, 'objective': 'binary:logistic', 'eval_metric': 'auc', 'nthread': 1}\n",
            "\ttrain_call_kwargs_params: {'verbose_eval': True, 'num_boost_round': 100}\n",
            "\tdmatrix_kwargs: {'nthread': 1, 'missing': nan}\n",
            "INFO:XGBoost-PySpark:Finished xgboost training!\n",
            "INFO:XGBoost-PySpark:Running xgboost-2.0.3 on 1 workers with\n",
            "\tbooster params: {'device': 'cpu', 'gamma': 0.1, 'max_depth': 9, 'min_child_weight': 10, 'objective': 'binary:logistic', 'eval_metric': 'auc', 'nthread': 1}\n",
            "\ttrain_call_kwargs_params: {'verbose_eval': True, 'num_boost_round': 100}\n",
            "\tdmatrix_kwargs: {'nthread': 1, 'missing': nan}\n",
            "INFO:XGBoost-PySpark:Finished xgboost training!\n",
            "INFO:XGBoost-PySpark:Running xgboost-2.0.3 on 1 workers with\n",
            "\tbooster params: {'device': 'cpu', 'gamma': 0.2, 'max_depth': 9, 'min_child_weight': 10, 'objective': 'binary:logistic', 'eval_metric': 'auc', 'nthread': 1}\n",
            "\ttrain_call_kwargs_params: {'verbose_eval': True, 'num_boost_round': 100}\n",
            "\tdmatrix_kwargs: {'nthread': 1, 'missing': nan}\n",
            "INFO:XGBoost-PySpark:Finished xgboost training!\n",
            "INFO:XGBoost-PySpark:Running xgboost-2.0.3 on 1 workers with\n",
            "\tbooster params: {'device': 'cpu', 'gamma': 0.3, 'max_depth': 9, 'min_child_weight': 10, 'objective': 'binary:logistic', 'eval_metric': 'auc', 'nthread': 1}\n",
            "\ttrain_call_kwargs_params: {'verbose_eval': True, 'num_boost_round': 100}\n",
            "\tdmatrix_kwargs: {'nthread': 1, 'missing': nan}\n",
            "INFO:XGBoost-PySpark:Finished xgboost training!\n",
            "INFO:XGBoost-PySpark:Running xgboost-2.0.3 on 1 workers with\n",
            "\tbooster params: {'device': 'cpu', 'gamma': 0.1, 'max_depth': 3, 'min_child_weight': 1, 'objective': 'binary:logistic', 'eval_metric': 'auc', 'nthread': 1}\n",
            "\ttrain_call_kwargs_params: {'verbose_eval': True, 'num_boost_round': 100}\n",
            "\tdmatrix_kwargs: {'nthread': 1, 'missing': nan}\n",
            "INFO:XGBoost-PySpark:Finished xgboost training!\n",
            "INFO:XGBoost-PySpark:Running xgboost-2.0.3 on 1 workers with\n",
            "\tbooster params: {'device': 'cpu', 'gamma': 0.2, 'max_depth': 3, 'min_child_weight': 1, 'objective': 'binary:logistic', 'eval_metric': 'auc', 'nthread': 1}\n",
            "\ttrain_call_kwargs_params: {'verbose_eval': True, 'num_boost_round': 100}\n",
            "\tdmatrix_kwargs: {'nthread': 1, 'missing': nan}\n",
            "INFO:XGBoost-PySpark:Finished xgboost training!\n",
            "INFO:XGBoost-PySpark:Running xgboost-2.0.3 on 1 workers with\n",
            "\tbooster params: {'device': 'cpu', 'gamma': 0.3, 'max_depth': 3, 'min_child_weight': 1, 'objective': 'binary:logistic', 'eval_metric': 'auc', 'nthread': 1}\n",
            "\ttrain_call_kwargs_params: {'verbose_eval': True, 'num_boost_round': 100}\n",
            "\tdmatrix_kwargs: {'nthread': 1, 'missing': nan}\n",
            "INFO:XGBoost-PySpark:Finished xgboost training!\n",
            "INFO:XGBoost-PySpark:Running xgboost-2.0.3 on 1 workers with\n",
            "\tbooster params: {'device': 'cpu', 'gamma': 0.1, 'max_depth': 3, 'min_child_weight': 5, 'objective': 'binary:logistic', 'eval_metric': 'auc', 'nthread': 1}\n",
            "\ttrain_call_kwargs_params: {'verbose_eval': True, 'num_boost_round': 100}\n",
            "\tdmatrix_kwargs: {'nthread': 1, 'missing': nan}\n",
            "INFO:XGBoost-PySpark:Finished xgboost training!\n",
            "INFO:XGBoost-PySpark:Running xgboost-2.0.3 on 1 workers with\n",
            "\tbooster params: {'device': 'cpu', 'gamma': 0.2, 'max_depth': 3, 'min_child_weight': 5, 'objective': 'binary:logistic', 'eval_metric': 'auc', 'nthread': 1}\n",
            "\ttrain_call_kwargs_params: {'verbose_eval': True, 'num_boost_round': 100}\n",
            "\tdmatrix_kwargs: {'nthread': 1, 'missing': nan}\n",
            "INFO:XGBoost-PySpark:Finished xgboost training!\n",
            "INFO:XGBoost-PySpark:Running xgboost-2.0.3 on 1 workers with\n",
            "\tbooster params: {'device': 'cpu', 'gamma': 0.3, 'max_depth': 3, 'min_child_weight': 5, 'objective': 'binary:logistic', 'eval_metric': 'auc', 'nthread': 1}\n",
            "\ttrain_call_kwargs_params: {'verbose_eval': True, 'num_boost_round': 100}\n",
            "\tdmatrix_kwargs: {'nthread': 1, 'missing': nan}\n",
            "INFO:XGBoost-PySpark:Finished xgboost training!\n",
            "INFO:XGBoost-PySpark:Running xgboost-2.0.3 on 1 workers with\n",
            "\tbooster params: {'device': 'cpu', 'gamma': 0.1, 'max_depth': 3, 'min_child_weight': 10, 'objective': 'binary:logistic', 'eval_metric': 'auc', 'nthread': 1}\n",
            "\ttrain_call_kwargs_params: {'verbose_eval': True, 'num_boost_round': 100}\n",
            "\tdmatrix_kwargs: {'nthread': 1, 'missing': nan}\n",
            "INFO:XGBoost-PySpark:Finished xgboost training!\n",
            "INFO:XGBoost-PySpark:Running xgboost-2.0.3 on 1 workers with\n",
            "\tbooster params: {'device': 'cpu', 'gamma': 0.2, 'max_depth': 3, 'min_child_weight': 10, 'objective': 'binary:logistic', 'eval_metric': 'auc', 'nthread': 1}\n",
            "\ttrain_call_kwargs_params: {'verbose_eval': True, 'num_boost_round': 100}\n",
            "\tdmatrix_kwargs: {'nthread': 1, 'missing': nan}\n",
            "INFO:XGBoost-PySpark:Finished xgboost training!\n",
            "INFO:XGBoost-PySpark:Running xgboost-2.0.3 on 1 workers with\n",
            "\tbooster params: {'device': 'cpu', 'gamma': 0.3, 'max_depth': 3, 'min_child_weight': 10, 'objective': 'binary:logistic', 'eval_metric': 'auc', 'nthread': 1}\n",
            "\ttrain_call_kwargs_params: {'verbose_eval': True, 'num_boost_round': 100}\n",
            "\tdmatrix_kwargs: {'nthread': 1, 'missing': nan}\n",
            "INFO:XGBoost-PySpark:Finished xgboost training!\n",
            "INFO:XGBoost-PySpark:Running xgboost-2.0.3 on 1 workers with\n",
            "\tbooster params: {'device': 'cpu', 'gamma': 0.1, 'max_depth': 6, 'min_child_weight': 1, 'objective': 'binary:logistic', 'eval_metric': 'auc', 'nthread': 1}\n",
            "\ttrain_call_kwargs_params: {'verbose_eval': True, 'num_boost_round': 100}\n",
            "\tdmatrix_kwargs: {'nthread': 1, 'missing': nan}\n",
            "INFO:XGBoost-PySpark:Finished xgboost training!\n",
            "INFO:XGBoost-PySpark:Running xgboost-2.0.3 on 1 workers with\n",
            "\tbooster params: {'device': 'cpu', 'gamma': 0.2, 'max_depth': 6, 'min_child_weight': 1, 'objective': 'binary:logistic', 'eval_metric': 'auc', 'nthread': 1}\n",
            "\ttrain_call_kwargs_params: {'verbose_eval': True, 'num_boost_round': 100}\n",
            "\tdmatrix_kwargs: {'nthread': 1, 'missing': nan}\n",
            "INFO:XGBoost-PySpark:Finished xgboost training!\n",
            "INFO:XGBoost-PySpark:Running xgboost-2.0.3 on 1 workers with\n",
            "\tbooster params: {'device': 'cpu', 'gamma': 0.3, 'max_depth': 6, 'min_child_weight': 1, 'objective': 'binary:logistic', 'eval_metric': 'auc', 'nthread': 1}\n",
            "\ttrain_call_kwargs_params: {'verbose_eval': True, 'num_boost_round': 100}\n",
            "\tdmatrix_kwargs: {'nthread': 1, 'missing': nan}\n",
            "INFO:XGBoost-PySpark:Finished xgboost training!\n",
            "INFO:XGBoost-PySpark:Running xgboost-2.0.3 on 1 workers with\n",
            "\tbooster params: {'device': 'cpu', 'gamma': 0.1, 'max_depth': 6, 'min_child_weight': 5, 'objective': 'binary:logistic', 'eval_metric': 'auc', 'nthread': 1}\n",
            "\ttrain_call_kwargs_params: {'verbose_eval': True, 'num_boost_round': 100}\n",
            "\tdmatrix_kwargs: {'nthread': 1, 'missing': nan}\n",
            "INFO:XGBoost-PySpark:Finished xgboost training!\n",
            "INFO:XGBoost-PySpark:Running xgboost-2.0.3 on 1 workers with\n",
            "\tbooster params: {'device': 'cpu', 'gamma': 0.2, 'max_depth': 6, 'min_child_weight': 5, 'objective': 'binary:logistic', 'eval_metric': 'auc', 'nthread': 1}\n",
            "\ttrain_call_kwargs_params: {'verbose_eval': True, 'num_boost_round': 100}\n",
            "\tdmatrix_kwargs: {'nthread': 1, 'missing': nan}\n",
            "INFO:XGBoost-PySpark:Finished xgboost training!\n",
            "INFO:XGBoost-PySpark:Running xgboost-2.0.3 on 1 workers with\n",
            "\tbooster params: {'device': 'cpu', 'gamma': 0.3, 'max_depth': 6, 'min_child_weight': 5, 'objective': 'binary:logistic', 'eval_metric': 'auc', 'nthread': 1}\n",
            "\ttrain_call_kwargs_params: {'verbose_eval': True, 'num_boost_round': 100}\n",
            "\tdmatrix_kwargs: {'nthread': 1, 'missing': nan}\n",
            "INFO:XGBoost-PySpark:Finished xgboost training!\n",
            "INFO:XGBoost-PySpark:Running xgboost-2.0.3 on 1 workers with\n",
            "\tbooster params: {'device': 'cpu', 'gamma': 0.1, 'max_depth': 6, 'min_child_weight': 10, 'objective': 'binary:logistic', 'eval_metric': 'auc', 'nthread': 1}\n",
            "\ttrain_call_kwargs_params: {'verbose_eval': True, 'num_boost_round': 100}\n",
            "\tdmatrix_kwargs: {'nthread': 1, 'missing': nan}\n",
            "INFO:XGBoost-PySpark:Finished xgboost training!\n",
            "INFO:XGBoost-PySpark:Running xgboost-2.0.3 on 1 workers with\n",
            "\tbooster params: {'device': 'cpu', 'gamma': 0.2, 'max_depth': 6, 'min_child_weight': 10, 'objective': 'binary:logistic', 'eval_metric': 'auc', 'nthread': 1}\n",
            "\ttrain_call_kwargs_params: {'verbose_eval': True, 'num_boost_round': 100}\n",
            "\tdmatrix_kwargs: {'nthread': 1, 'missing': nan}\n",
            "INFO:XGBoost-PySpark:Finished xgboost training!\n",
            "INFO:XGBoost-PySpark:Running xgboost-2.0.3 on 1 workers with\n",
            "\tbooster params: {'device': 'cpu', 'gamma': 0.3, 'max_depth': 6, 'min_child_weight': 10, 'objective': 'binary:logistic', 'eval_metric': 'auc', 'nthread': 1}\n",
            "\ttrain_call_kwargs_params: {'verbose_eval': True, 'num_boost_round': 100}\n",
            "\tdmatrix_kwargs: {'nthread': 1, 'missing': nan}\n",
            "INFO:XGBoost-PySpark:Finished xgboost training!\n",
            "INFO:XGBoost-PySpark:Running xgboost-2.0.3 on 1 workers with\n",
            "\tbooster params: {'device': 'cpu', 'gamma': 0.1, 'max_depth': 9, 'min_child_weight': 1, 'objective': 'binary:logistic', 'eval_metric': 'auc', 'nthread': 1}\n",
            "\ttrain_call_kwargs_params: {'verbose_eval': True, 'num_boost_round': 100}\n",
            "\tdmatrix_kwargs: {'nthread': 1, 'missing': nan}\n",
            "INFO:XGBoost-PySpark:Finished xgboost training!\n",
            "INFO:XGBoost-PySpark:Running xgboost-2.0.3 on 1 workers with\n",
            "\tbooster params: {'device': 'cpu', 'gamma': 0.2, 'max_depth': 9, 'min_child_weight': 1, 'objective': 'binary:logistic', 'eval_metric': 'auc', 'nthread': 1}\n",
            "\ttrain_call_kwargs_params: {'verbose_eval': True, 'num_boost_round': 100}\n",
            "\tdmatrix_kwargs: {'nthread': 1, 'missing': nan}\n",
            "INFO:XGBoost-PySpark:Finished xgboost training!\n",
            "INFO:XGBoost-PySpark:Running xgboost-2.0.3 on 1 workers with\n",
            "\tbooster params: {'device': 'cpu', 'gamma': 0.3, 'max_depth': 9, 'min_child_weight': 1, 'objective': 'binary:logistic', 'eval_metric': 'auc', 'nthread': 1}\n",
            "\ttrain_call_kwargs_params: {'verbose_eval': True, 'num_boost_round': 100}\n",
            "\tdmatrix_kwargs: {'nthread': 1, 'missing': nan}\n",
            "INFO:XGBoost-PySpark:Finished xgboost training!\n",
            "INFO:XGBoost-PySpark:Running xgboost-2.0.3 on 1 workers with\n",
            "\tbooster params: {'device': 'cpu', 'gamma': 0.1, 'max_depth': 9, 'min_child_weight': 5, 'objective': 'binary:logistic', 'eval_metric': 'auc', 'nthread': 1}\n",
            "\ttrain_call_kwargs_params: {'verbose_eval': True, 'num_boost_round': 100}\n",
            "\tdmatrix_kwargs: {'nthread': 1, 'missing': nan}\n",
            "INFO:XGBoost-PySpark:Finished xgboost training!\n",
            "INFO:XGBoost-PySpark:Running xgboost-2.0.3 on 1 workers with\n",
            "\tbooster params: {'device': 'cpu', 'gamma': 0.2, 'max_depth': 9, 'min_child_weight': 5, 'objective': 'binary:logistic', 'eval_metric': 'auc', 'nthread': 1}\n",
            "\ttrain_call_kwargs_params: {'verbose_eval': True, 'num_boost_round': 100}\n",
            "\tdmatrix_kwargs: {'nthread': 1, 'missing': nan}\n",
            "INFO:XGBoost-PySpark:Finished xgboost training!\n",
            "INFO:XGBoost-PySpark:Running xgboost-2.0.3 on 1 workers with\n",
            "\tbooster params: {'device': 'cpu', 'gamma': 0.3, 'max_depth': 9, 'min_child_weight': 5, 'objective': 'binary:logistic', 'eval_metric': 'auc', 'nthread': 1}\n",
            "\ttrain_call_kwargs_params: {'verbose_eval': True, 'num_boost_round': 100}\n",
            "\tdmatrix_kwargs: {'nthread': 1, 'missing': nan}\n",
            "INFO:XGBoost-PySpark:Finished xgboost training!\n",
            "INFO:XGBoost-PySpark:Running xgboost-2.0.3 on 1 workers with\n",
            "\tbooster params: {'device': 'cpu', 'gamma': 0.1, 'max_depth': 9, 'min_child_weight': 10, 'objective': 'binary:logistic', 'eval_metric': 'auc', 'nthread': 1}\n",
            "\ttrain_call_kwargs_params: {'verbose_eval': True, 'num_boost_round': 100}\n",
            "\tdmatrix_kwargs: {'nthread': 1, 'missing': nan}\n",
            "INFO:XGBoost-PySpark:Finished xgboost training!\n",
            "INFO:XGBoost-PySpark:Running xgboost-2.0.3 on 1 workers with\n",
            "\tbooster params: {'device': 'cpu', 'gamma': 0.2, 'max_depth': 9, 'min_child_weight': 10, 'objective': 'binary:logistic', 'eval_metric': 'auc', 'nthread': 1}\n",
            "\ttrain_call_kwargs_params: {'verbose_eval': True, 'num_boost_round': 100}\n",
            "\tdmatrix_kwargs: {'nthread': 1, 'missing': nan}\n",
            "INFO:XGBoost-PySpark:Finished xgboost training!\n",
            "INFO:XGBoost-PySpark:Running xgboost-2.0.3 on 1 workers with\n",
            "\tbooster params: {'device': 'cpu', 'gamma': 0.3, 'max_depth': 9, 'min_child_weight': 10, 'objective': 'binary:logistic', 'eval_metric': 'auc', 'nthread': 1}\n",
            "\ttrain_call_kwargs_params: {'verbose_eval': True, 'num_boost_round': 100}\n",
            "\tdmatrix_kwargs: {'nthread': 1, 'missing': nan}\n",
            "INFO:XGBoost-PySpark:Finished xgboost training!\n",
            "INFO:XGBoost-PySpark:Running xgboost-2.0.3 on 1 workers with\n",
            "\tbooster params: {'device': 'cpu', 'gamma': 0.1, 'max_depth': 3, 'min_child_weight': 1, 'objective': 'binary:logistic', 'eval_metric': 'auc', 'nthread': 1}\n",
            "\ttrain_call_kwargs_params: {'verbose_eval': True, 'num_boost_round': 100}\n",
            "\tdmatrix_kwargs: {'nthread': 1, 'missing': nan}\n",
            "INFO:XGBoost-PySpark:Finished xgboost training!\n",
            "INFO:XGBoost-PySpark:Running xgboost-2.0.3 on 1 workers with\n",
            "\tbooster params: {'device': 'cpu', 'gamma': 0.2, 'max_depth': 3, 'min_child_weight': 1, 'objective': 'binary:logistic', 'eval_metric': 'auc', 'nthread': 1}\n",
            "\ttrain_call_kwargs_params: {'verbose_eval': True, 'num_boost_round': 100}\n",
            "\tdmatrix_kwargs: {'nthread': 1, 'missing': nan}\n",
            "INFO:XGBoost-PySpark:Finished xgboost training!\n",
            "INFO:XGBoost-PySpark:Running xgboost-2.0.3 on 1 workers with\n",
            "\tbooster params: {'device': 'cpu', 'gamma': 0.3, 'max_depth': 3, 'min_child_weight': 1, 'objective': 'binary:logistic', 'eval_metric': 'auc', 'nthread': 1}\n",
            "\ttrain_call_kwargs_params: {'verbose_eval': True, 'num_boost_round': 100}\n",
            "\tdmatrix_kwargs: {'nthread': 1, 'missing': nan}\n",
            "INFO:XGBoost-PySpark:Finished xgboost training!\n",
            "INFO:XGBoost-PySpark:Running xgboost-2.0.3 on 1 workers with\n",
            "\tbooster params: {'device': 'cpu', 'gamma': 0.1, 'max_depth': 3, 'min_child_weight': 5, 'objective': 'binary:logistic', 'eval_metric': 'auc', 'nthread': 1}\n",
            "\ttrain_call_kwargs_params: {'verbose_eval': True, 'num_boost_round': 100}\n",
            "\tdmatrix_kwargs: {'nthread': 1, 'missing': nan}\n",
            "INFO:XGBoost-PySpark:Finished xgboost training!\n",
            "INFO:XGBoost-PySpark:Running xgboost-2.0.3 on 1 workers with\n",
            "\tbooster params: {'device': 'cpu', 'gamma': 0.2, 'max_depth': 3, 'min_child_weight': 5, 'objective': 'binary:logistic', 'eval_metric': 'auc', 'nthread': 1}\n",
            "\ttrain_call_kwargs_params: {'verbose_eval': True, 'num_boost_round': 100}\n",
            "\tdmatrix_kwargs: {'nthread': 1, 'missing': nan}\n",
            "INFO:XGBoost-PySpark:Finished xgboost training!\n",
            "INFO:XGBoost-PySpark:Running xgboost-2.0.3 on 1 workers with\n",
            "\tbooster params: {'device': 'cpu', 'gamma': 0.3, 'max_depth': 3, 'min_child_weight': 5, 'objective': 'binary:logistic', 'eval_metric': 'auc', 'nthread': 1}\n",
            "\ttrain_call_kwargs_params: {'verbose_eval': True, 'num_boost_round': 100}\n",
            "\tdmatrix_kwargs: {'nthread': 1, 'missing': nan}\n",
            "INFO:XGBoost-PySpark:Finished xgboost training!\n",
            "INFO:XGBoost-PySpark:Running xgboost-2.0.3 on 1 workers with\n",
            "\tbooster params: {'device': 'cpu', 'gamma': 0.1, 'max_depth': 3, 'min_child_weight': 10, 'objective': 'binary:logistic', 'eval_metric': 'auc', 'nthread': 1}\n",
            "\ttrain_call_kwargs_params: {'verbose_eval': True, 'num_boost_round': 100}\n",
            "\tdmatrix_kwargs: {'nthread': 1, 'missing': nan}\n",
            "INFO:XGBoost-PySpark:Finished xgboost training!\n",
            "INFO:XGBoost-PySpark:Running xgboost-2.0.3 on 1 workers with\n",
            "\tbooster params: {'device': 'cpu', 'gamma': 0.2, 'max_depth': 3, 'min_child_weight': 10, 'objective': 'binary:logistic', 'eval_metric': 'auc', 'nthread': 1}\n",
            "\ttrain_call_kwargs_params: {'verbose_eval': True, 'num_boost_round': 100}\n",
            "\tdmatrix_kwargs: {'nthread': 1, 'missing': nan}\n",
            "INFO:XGBoost-PySpark:Finished xgboost training!\n",
            "INFO:XGBoost-PySpark:Running xgboost-2.0.3 on 1 workers with\n",
            "\tbooster params: {'device': 'cpu', 'gamma': 0.3, 'max_depth': 3, 'min_child_weight': 10, 'objective': 'binary:logistic', 'eval_metric': 'auc', 'nthread': 1}\n",
            "\ttrain_call_kwargs_params: {'verbose_eval': True, 'num_boost_round': 100}\n",
            "\tdmatrix_kwargs: {'nthread': 1, 'missing': nan}\n",
            "INFO:XGBoost-PySpark:Finished xgboost training!\n",
            "INFO:XGBoost-PySpark:Running xgboost-2.0.3 on 1 workers with\n",
            "\tbooster params: {'device': 'cpu', 'gamma': 0.1, 'max_depth': 6, 'min_child_weight': 1, 'objective': 'binary:logistic', 'eval_metric': 'auc', 'nthread': 1}\n",
            "\ttrain_call_kwargs_params: {'verbose_eval': True, 'num_boost_round': 100}\n",
            "\tdmatrix_kwargs: {'nthread': 1, 'missing': nan}\n",
            "INFO:XGBoost-PySpark:Finished xgboost training!\n",
            "INFO:XGBoost-PySpark:Running xgboost-2.0.3 on 1 workers with\n",
            "\tbooster params: {'device': 'cpu', 'gamma': 0.2, 'max_depth': 6, 'min_child_weight': 1, 'objective': 'binary:logistic', 'eval_metric': 'auc', 'nthread': 1}\n",
            "\ttrain_call_kwargs_params: {'verbose_eval': True, 'num_boost_round': 100}\n",
            "\tdmatrix_kwargs: {'nthread': 1, 'missing': nan}\n",
            "INFO:XGBoost-PySpark:Finished xgboost training!\n",
            "INFO:XGBoost-PySpark:Running xgboost-2.0.3 on 1 workers with\n",
            "\tbooster params: {'device': 'cpu', 'gamma': 0.3, 'max_depth': 6, 'min_child_weight': 1, 'objective': 'binary:logistic', 'eval_metric': 'auc', 'nthread': 1}\n",
            "\ttrain_call_kwargs_params: {'verbose_eval': True, 'num_boost_round': 100}\n",
            "\tdmatrix_kwargs: {'nthread': 1, 'missing': nan}\n",
            "INFO:XGBoost-PySpark:Finished xgboost training!\n",
            "INFO:XGBoost-PySpark:Running xgboost-2.0.3 on 1 workers with\n",
            "\tbooster params: {'device': 'cpu', 'gamma': 0.1, 'max_depth': 6, 'min_child_weight': 5, 'objective': 'binary:logistic', 'eval_metric': 'auc', 'nthread': 1}\n",
            "\ttrain_call_kwargs_params: {'verbose_eval': True, 'num_boost_round': 100}\n",
            "\tdmatrix_kwargs: {'nthread': 1, 'missing': nan}\n",
            "INFO:XGBoost-PySpark:Finished xgboost training!\n",
            "INFO:XGBoost-PySpark:Running xgboost-2.0.3 on 1 workers with\n",
            "\tbooster params: {'device': 'cpu', 'gamma': 0.2, 'max_depth': 6, 'min_child_weight': 5, 'objective': 'binary:logistic', 'eval_metric': 'auc', 'nthread': 1}\n",
            "\ttrain_call_kwargs_params: {'verbose_eval': True, 'num_boost_round': 100}\n",
            "\tdmatrix_kwargs: {'nthread': 1, 'missing': nan}\n",
            "INFO:XGBoost-PySpark:Finished xgboost training!\n",
            "INFO:XGBoost-PySpark:Running xgboost-2.0.3 on 1 workers with\n",
            "\tbooster params: {'device': 'cpu', 'gamma': 0.3, 'max_depth': 6, 'min_child_weight': 5, 'objective': 'binary:logistic', 'eval_metric': 'auc', 'nthread': 1}\n",
            "\ttrain_call_kwargs_params: {'verbose_eval': True, 'num_boost_round': 100}\n",
            "\tdmatrix_kwargs: {'nthread': 1, 'missing': nan}\n",
            "INFO:XGBoost-PySpark:Finished xgboost training!\n",
            "INFO:XGBoost-PySpark:Running xgboost-2.0.3 on 1 workers with\n",
            "\tbooster params: {'device': 'cpu', 'gamma': 0.1, 'max_depth': 6, 'min_child_weight': 10, 'objective': 'binary:logistic', 'eval_metric': 'auc', 'nthread': 1}\n",
            "\ttrain_call_kwargs_params: {'verbose_eval': True, 'num_boost_round': 100}\n",
            "\tdmatrix_kwargs: {'nthread': 1, 'missing': nan}\n",
            "INFO:XGBoost-PySpark:Finished xgboost training!\n",
            "INFO:XGBoost-PySpark:Running xgboost-2.0.3 on 1 workers with\n",
            "\tbooster params: {'device': 'cpu', 'gamma': 0.2, 'max_depth': 6, 'min_child_weight': 10, 'objective': 'binary:logistic', 'eval_metric': 'auc', 'nthread': 1}\n",
            "\ttrain_call_kwargs_params: {'verbose_eval': True, 'num_boost_round': 100}\n",
            "\tdmatrix_kwargs: {'nthread': 1, 'missing': nan}\n",
            "INFO:XGBoost-PySpark:Finished xgboost training!\n",
            "INFO:XGBoost-PySpark:Running xgboost-2.0.3 on 1 workers with\n",
            "\tbooster params: {'device': 'cpu', 'gamma': 0.3, 'max_depth': 6, 'min_child_weight': 10, 'objective': 'binary:logistic', 'eval_metric': 'auc', 'nthread': 1}\n",
            "\ttrain_call_kwargs_params: {'verbose_eval': True, 'num_boost_round': 100}\n",
            "\tdmatrix_kwargs: {'nthread': 1, 'missing': nan}\n",
            "INFO:XGBoost-PySpark:Finished xgboost training!\n",
            "INFO:XGBoost-PySpark:Running xgboost-2.0.3 on 1 workers with\n",
            "\tbooster params: {'device': 'cpu', 'gamma': 0.1, 'max_depth': 9, 'min_child_weight': 1, 'objective': 'binary:logistic', 'eval_metric': 'auc', 'nthread': 1}\n",
            "\ttrain_call_kwargs_params: {'verbose_eval': True, 'num_boost_round': 100}\n",
            "\tdmatrix_kwargs: {'nthread': 1, 'missing': nan}\n",
            "INFO:XGBoost-PySpark:Finished xgboost training!\n",
            "INFO:XGBoost-PySpark:Running xgboost-2.0.3 on 1 workers with\n",
            "\tbooster params: {'device': 'cpu', 'gamma': 0.2, 'max_depth': 9, 'min_child_weight': 1, 'objective': 'binary:logistic', 'eval_metric': 'auc', 'nthread': 1}\n",
            "\ttrain_call_kwargs_params: {'verbose_eval': True, 'num_boost_round': 100}\n",
            "\tdmatrix_kwargs: {'nthread': 1, 'missing': nan}\n",
            "INFO:XGBoost-PySpark:Finished xgboost training!\n",
            "INFO:XGBoost-PySpark:Running xgboost-2.0.3 on 1 workers with\n",
            "\tbooster params: {'device': 'cpu', 'gamma': 0.3, 'max_depth': 9, 'min_child_weight': 1, 'objective': 'binary:logistic', 'eval_metric': 'auc', 'nthread': 1}\n",
            "\ttrain_call_kwargs_params: {'verbose_eval': True, 'num_boost_round': 100}\n",
            "\tdmatrix_kwargs: {'nthread': 1, 'missing': nan}\n",
            "INFO:XGBoost-PySpark:Finished xgboost training!\n",
            "INFO:XGBoost-PySpark:Running xgboost-2.0.3 on 1 workers with\n",
            "\tbooster params: {'device': 'cpu', 'gamma': 0.1, 'max_depth': 9, 'min_child_weight': 5, 'objective': 'binary:logistic', 'eval_metric': 'auc', 'nthread': 1}\n",
            "\ttrain_call_kwargs_params: {'verbose_eval': True, 'num_boost_round': 100}\n",
            "\tdmatrix_kwargs: {'nthread': 1, 'missing': nan}\n",
            "INFO:XGBoost-PySpark:Finished xgboost training!\n",
            "INFO:XGBoost-PySpark:Running xgboost-2.0.3 on 1 workers with\n",
            "\tbooster params: {'device': 'cpu', 'gamma': 0.2, 'max_depth': 9, 'min_child_weight': 5, 'objective': 'binary:logistic', 'eval_metric': 'auc', 'nthread': 1}\n",
            "\ttrain_call_kwargs_params: {'verbose_eval': True, 'num_boost_round': 100}\n",
            "\tdmatrix_kwargs: {'nthread': 1, 'missing': nan}\n",
            "INFO:XGBoost-PySpark:Finished xgboost training!\n",
            "INFO:XGBoost-PySpark:Running xgboost-2.0.3 on 1 workers with\n",
            "\tbooster params: {'device': 'cpu', 'gamma': 0.3, 'max_depth': 9, 'min_child_weight': 5, 'objective': 'binary:logistic', 'eval_metric': 'auc', 'nthread': 1}\n",
            "\ttrain_call_kwargs_params: {'verbose_eval': True, 'num_boost_round': 100}\n",
            "\tdmatrix_kwargs: {'nthread': 1, 'missing': nan}\n",
            "INFO:XGBoost-PySpark:Finished xgboost training!\n",
            "INFO:XGBoost-PySpark:Running xgboost-2.0.3 on 1 workers with\n",
            "\tbooster params: {'device': 'cpu', 'gamma': 0.1, 'max_depth': 9, 'min_child_weight': 10, 'objective': 'binary:logistic', 'eval_metric': 'auc', 'nthread': 1}\n",
            "\ttrain_call_kwargs_params: {'verbose_eval': True, 'num_boost_round': 100}\n",
            "\tdmatrix_kwargs: {'nthread': 1, 'missing': nan}\n",
            "INFO:XGBoost-PySpark:Finished xgboost training!\n",
            "INFO:XGBoost-PySpark:Running xgboost-2.0.3 on 1 workers with\n",
            "\tbooster params: {'device': 'cpu', 'gamma': 0.2, 'max_depth': 9, 'min_child_weight': 10, 'objective': 'binary:logistic', 'eval_metric': 'auc', 'nthread': 1}\n",
            "\ttrain_call_kwargs_params: {'verbose_eval': True, 'num_boost_round': 100}\n",
            "\tdmatrix_kwargs: {'nthread': 1, 'missing': nan}\n",
            "INFO:XGBoost-PySpark:Finished xgboost training!\n",
            "INFO:XGBoost-PySpark:Running xgboost-2.0.3 on 1 workers with\n",
            "\tbooster params: {'device': 'cpu', 'gamma': 0.3, 'max_depth': 9, 'min_child_weight': 10, 'objective': 'binary:logistic', 'eval_metric': 'auc', 'nthread': 1}\n",
            "\ttrain_call_kwargs_params: {'verbose_eval': True, 'num_boost_round': 100}\n",
            "\tdmatrix_kwargs: {'nthread': 1, 'missing': nan}\n",
            "INFO:XGBoost-PySpark:Finished xgboost training!\n",
            "INFO:XGBoost-PySpark:Running xgboost-2.0.3 on 1 workers with\n",
            "\tbooster params: {'device': 'cpu', 'gamma': 0.3, 'max_depth': 6, 'min_child_weight': 5, 'objective': 'binary:logistic', 'eval_metric': 'auc', 'nthread': 1}\n",
            "\ttrain_call_kwargs_params: {'verbose_eval': True, 'num_boost_round': 100}\n",
            "\tdmatrix_kwargs: {'nthread': 1, 'missing': nan}\n",
            "INFO:XGBoost-PySpark:Finished xgboost training!\n"
          ]
        }
      ]
    },
    {
      "cell_type": "code",
      "source": [
        "#Make an evaluation after cross-validation\n",
        "predictions_cv = cv_model.transform(test_data)\n",
        "\n",
        "accuracy = accuracy_evaluator.evaluate(predictions_cv)\n",
        "precision = precision_evaluator.evaluate(predictions_cv)\n",
        "recall = recall_evaluator.evaluate(predictions_cv)\n",
        "f1_score = f1_evaluator.evaluate(predictions_cv)\n",
        "\n",
        "print(\"Accuracy:\", accuracy)\n",
        "print(\"Precision:\", precision)\n",
        "print(\"Recall:\", recall)\n",
        "print(\"F1 Score:\", f1_score)"
      ],
      "metadata": {
        "colab": {
          "base_uri": "https://localhost:8080/"
        },
        "id": "tPYn_pYexluN",
        "outputId": "eeeafefc-a7cf-430e-9b8c-32f53aac7c68"
      },
      "execution_count": null,
      "outputs": [
        {
          "output_type": "stream",
          "name": "stdout",
          "text": [
            "Accuracy: 0.9041777188328912\n",
            "Precision: 0.8949127274218018\n",
            "Recall: 0.9041777188328912\n",
            "F1 Score: 0.8977978136455371\n"
          ]
        }
      ]
    },
    {
      "cell_type": "code",
      "source": [
        "best_model = cv_model.bestModel"
      ],
      "metadata": {
        "id": "X67NlOxuzZhP"
      },
      "execution_count": null,
      "outputs": []
    },
    {
      "cell_type": "code",
      "source": [
        "best_model_predictions = best_model.transform(test_data)\n",
        "\n",
        "accuracy = accuracy_evaluator.evaluate(best_model_predictions)\n",
        "precision = precision_evaluator.evaluate(best_model_predictions)\n",
        "recall = recall_evaluator.evaluate(best_model_predictions)\n",
        "f1_score = f1_evaluator.evaluate(best_model_predictions)\n",
        "\n",
        "print(\"Best Model Evaluation Metrics:\")\n",
        "print(\"Accuracy:\", accuracy)\n",
        "print(\"Precision:\", precision)\n",
        "print(\"Recall:\", recall)\n",
        "print(\"F1 Score:\", f1_score)"
      ],
      "metadata": {
        "colab": {
          "base_uri": "https://localhost:8080/"
        },
        "id": "f4t14NDYzbAC",
        "outputId": "8e92fbbf-e68a-4e42-b4c5-39136a178840"
      },
      "execution_count": null,
      "outputs": [
        {
          "output_type": "stream",
          "name": "stdout",
          "text": [
            "Best Model Evaluation Metrics:\n",
            "Accuracy: 0.9051724137931034\n",
            "Precision: 0.896819618808873\n",
            "Recall: 0.9051724137931034\n",
            "F1 Score: 0.8996044672345656\n"
          ]
        }
      ]
    },
    {
      "cell_type": "code",
      "source": [
        "from sklearn.metrics import roc_curve, auc"
      ],
      "metadata": {
        "id": "J6lcQRSM4KMh"
      },
      "execution_count": null,
      "outputs": []
    },
    {
      "cell_type": "code",
      "source": [
        "#Printing ROC-curve\n",
        "prediction_and_labels = best_model_predictions.select(\"prediction\", target_col).rdd.map(lambda row: (float(row[\"prediction\"]), float(row[target_col])))\n"
      ],
      "metadata": {
        "id": "mwKLQM-X1WQB"
      },
      "execution_count": null,
      "outputs": []
    },
    {
      "cell_type": "code",
      "source": [
        "prediction_and_label_df = prediction_and_labels.toDF([\"prediction\", \"label\"])\n",
        "prediction_and_label_df.show()"
      ],
      "metadata": {
        "id": "eWJNCFJb4rvJ"
      },
      "execution_count": null,
      "outputs": []
    },
    {
      "cell_type": "code",
      "source": [
        "prediction_and_label_df.printSchema()"
      ],
      "metadata": {
        "colab": {
          "base_uri": "https://localhost:8080/"
        },
        "id": "EP8wYb2H8Jx4",
        "outputId": "a7ec5881-2afc-4610-9deb-9040739cc56d"
      },
      "execution_count": null,
      "outputs": [
        {
          "output_type": "stream",
          "name": "stdout",
          "text": [
            "root\n",
            " |-- prediction: double (nullable = true)\n",
            " |-- label: double (nullable = true)\n",
            "\n"
          ]
        }
      ]
    },
    {
      "cell_type": "code",
      "source": [
        "# Convert the DataFrame to Pandas for ROC curve calculation\n",
        "prediction_and_label_pd = prediction_and_label_df.toPandas()"
      ],
      "metadata": {
        "id": "hH-sAfot7uup"
      },
      "execution_count": null,
      "outputs": []
    },
    {
      "cell_type": "code",
      "source": [
        "fpr, tpr, _ = roc_curve(prediction_and_label_pd[\"label\"], prediction_and_label_pd[\"prediction\"])\n",
        "roc_auc = auc(fpr, tpr)\n"
      ],
      "metadata": {
        "id": "DJM_ggIX8ij1"
      },
      "execution_count": null,
      "outputs": []
    },
    {
      "cell_type": "code",
      "source": [
        "import pandas as pd"
      ],
      "metadata": {
        "id": "K-EleNDPB81K"
      },
      "execution_count": null,
      "outputs": []
    },
    {
      "cell_type": "code",
      "source": [
        "roc = pd.DataFrame({'fpr': fpr, 'r_tpr': tpr})"
      ],
      "metadata": {
        "id": "6VwJk_rRB0gM"
      },
      "execution_count": null,
      "outputs": []
    },
    {
      "cell_type": "code",
      "source": [
        "roc.head()"
      ],
      "metadata": {
        "id": "GFxmb5RoCDeD"
      },
      "execution_count": null,
      "outputs": []
    },
    {
      "cell_type": "code",
      "source": [
        "plt.figure(figsize=(8, 6))\n",
        "plt.plot(fpr, tpr, color='darkorange', lw=2, label='ROC curve (area = %0.2f)' % roc_auc)\n",
        "plt.plot([0, 1], [0, 1], color='navy', lw=2, linestyle='--')\n",
        "plt.xlabel('False Positive Rate')\n",
        "plt.ylabel('True Positive Rate')\n",
        "plt.title('Receiver Operating Characteristic (ROC) Curve')\n",
        "plt.legend(loc=\"lower right\")\n",
        "plt.show()"
      ],
      "metadata": {
        "colab": {
          "base_uri": "https://localhost:8080/",
          "height": 547
        },
        "id": "NusE92ww3yw-",
        "outputId": "7d4974a3-4ed6-4bbe-ac3d-0e4564a58d09"
      },
      "execution_count": null,
      "outputs": [
        {
          "output_type": "display_data",
          "data": {
            "text/plain": [
              "<Figure size 800x600 with 1 Axes>"
            ],
            "image/png": "[encoded data removed]"
          },
          "metadata": {}
        }
      ]
    },
    {
      "cell_type": "code",
      "source": [],
      "metadata": {
        "id": "I3nxUlPA34Yg"
      },
      "execution_count": null,
      "outputs": []
    }
  ]
}